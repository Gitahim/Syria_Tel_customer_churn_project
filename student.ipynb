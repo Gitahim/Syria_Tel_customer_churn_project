{
 "cells": [
  {
   "cell_type": "markdown",
   "id": "91291d0c-1944-4009-b65d-5aacdbe0697f",
   "metadata": {},
   "source": [
    "\n",
    "## Final Project Submission\n",
    "\n",
    "Please fill out:\n",
    "* Student name: Kevin Gitahi\n",
    "* Student pace: full time student\n",
    "* Scheduled project review date/time: \n",
    "* Instructor name: Nikita Njoroge\n",
    "* Blog post URL:\n"
   ]
  },
  {
   "cell_type": "markdown",
   "id": "c16db237-96ae-478b-89c9-df2bc3262ae0",
   "metadata": {
    "jp-MarkdownHeadingCollapsed": true
   },
   "source": [
    "## PHASE_3 PROJECT"
   ]
  },
  {
   "cell_type": "markdown",
   "id": "effa3579-9ed1-4999-a751-beb467377e17",
   "metadata": {
    "jp-MarkdownHeadingCollapsed": true
   },
   "source": [
    "## TITLE:MACHINE LEARNING CLASSIFICATION MODEL FOR PREDICTING CUSTOMER CHURN AT SYRIA TEL"
   ]
  },
  {
   "cell_type": "markdown",
   "id": "451a4f81-ccee-4891-a846-838ee720ee42",
   "metadata": {
    "jp-MarkdownHeadingCollapsed": true
   },
   "source": [
    "## 1.0 BUSINESS UNDERSTANDING/PROJECT OVERVIEW\n",
    "1.1 INTRODUCTION.\n",
    "\n",
    "Client churn, also known as customer churn or subscriber churn, refers to the loss of customers or subscribers over a specific period of time.\n",
    "\n",
    "Fighting client churn has become a crucial concern in the dynamic telecommunications sector, as customers have many options for service providers and frequently switch carriers.Currently,the industry's typical yearly churn rate in the US ranges from 11% to 25% according to latest report (year 2020) by statista https://www.statista.com/statistics/816735/customer-churn-rate-by-industry-us/, and keeping current clients has become crucial. Acknowledging the significant financial difference between bringing in new clients and keeping existing clients, seasoned operators make keeping existing clients their top priority.\n",
    "\n",
    "Understanding and reducing client churn is essential for businesses because:\n",
    "* Churn directly translates to lost recurring revenue. Retaining existing clients is generally cheaper than acquiring new ones.\n",
    "* High churn rates can indicate customer dissatisfaction and potentially harm the company's brand image.\n",
    "* By analyzing churn data, companies can identify patterns and risk factors associated with churn. This allows them to develop strategies to retain at-risk customers.\n",
    "\n",
    "Combating Client Churn:\n",
    "Companies can implement various strategies to reduce churn:\n",
    "* Customer Satisfaction Surveys: Understanding customer pain points and satisfaction levels helps to identify areas for improvement.\n",
    "* Loyalty Programs: Reward programs and incentives can encourage customers to stay.\n",
    "* Personalized Offers: Tailoring offers and promotions to individual customer needs can increase value perception.\n",
    "* Improved Customer Service: Providing excellent customer support builds trust and loyalty.\n",
    "* Proactive Engagement: Identifying at-risk customers and offering targeted interventions can prevent churn.\n",
    "\n",
    "By focusing on customer satisfaction, value delivery, and proactive engagement, Telecom companies can effectively reduce client churn and maintain a healthy customer base.\n",
    "\n",
    "\n",
    "1.2 PROBLEM STATEMENT.\n",
    "\n",
    "SyriaTel, a telecommunications company, has experienced a significant rise in customer churn rates within the US market during the past financial period. This churn is leading to customer loss and negatively impacting SyriaTel's revenue. To address this challenge,I aim to develop a machine learning model that will help SyriaTel company to identify customers at risk of churn in the US.Additionally,this model will be used to develop targeted customer retention strategies and mitigate churn.\n",
    "\n",
    "1.3 MAIN OBJECTIVE.\n",
    "\n",
    "To develop a machine learning classification model that accurately predicts customer churn in the US market for SyriaTel, enabling them to identify customers at high risk of churning and implement targeted customer retention strategies.\n",
    " \n",
    "1.4 SPECIFIC OBJECTIVES.\n",
    "* To identify the key factors that contribute to customer churn in Syria Tel.\n",
    "* To develop a model that will accurately predict the probability of churn for individual customers in the US market.\n",
    "* To determine the likely solution to lower churn.\n",
    " \n",
    "\n"
   ]
  },
  {
   "cell_type": "markdown",
   "id": "a7214b6b-021e-44a0-a4c6-058a694334ca",
   "metadata": {},
   "source": [
    "## 2.DATA UNDERSTANDING"
   ]
  },
  {
   "cell_type": "markdown",
   "id": "baf3917e-e3ce-472b-9fb8-011c51c85a64",
   "metadata": {},
   "source": [
    "## 3.DATA PREPARATION(DATA CLEANING)"
   ]
  },
  {
   "cell_type": "markdown",
   "id": "0b52871f-de86-45ea-9a5d-7456cd761ceb",
   "metadata": {},
   "source": [
    "## 4.DATA ANALYSIS"
   ]
  },
  {
   "cell_type": "markdown",
   "id": "ebf95eb0-6297-45fa-be8a-4e5f70bb5395",
   "metadata": {},
   "source": [
    "## 5.MODELING"
   ]
  },
  {
   "cell_type": "markdown",
   "id": "5a2f75f5-4f46-4512-873b-880312f06f3f",
   "metadata": {},
   "source": [
    "## 6.EVALUATION"
   ]
  },
  {
   "cell_type": "markdown",
   "id": "4d8aa7d2-cdc8-4168-b585-7c52c04b5ef2",
   "metadata": {},
   "source": [
    "## 7.CONCLUSION & RECOMMENDATIONS"
   ]
  },
  {
   "cell_type": "markdown",
   "id": "d1499cf4-84d7-420d-9bfb-5f8cbe69db53",
   "metadata": {},
   "source": [
    "## 8.NEXT STEPS"
   ]
  }
 ],
 "metadata": {
  "kernelspec": {
   "display_name": "Python (learn-env)",
   "language": "python",
   "name": "learn-env"
  },
  "language_info": {
   "codemirror_mode": {
    "name": "ipython",
    "version": 3
   },
   "file_extension": ".py",
   "mimetype": "text/x-python",
   "name": "python",
   "nbconvert_exporter": "python",
   "pygments_lexer": "ipython3",
   "version": "3.9.18"
  }
 },
 "nbformat": 4,
 "nbformat_minor": 5
}
