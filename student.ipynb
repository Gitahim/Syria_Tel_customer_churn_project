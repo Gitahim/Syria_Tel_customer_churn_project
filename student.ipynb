{
 "cells": [
  {
   "cell_type": "markdown",
   "id": "91291d0c-1944-4009-b65d-5aacdbe0697f",
   "metadata": {},
   "source": [
    "\n",
    "## Final Project Submission\n",
    "\n",
    "Please fill out:\n",
    "* Student name: Kevin Gitahi\n",
    "* Student pace: full time student\n",
    "* Scheduled project review date/time: \n",
    "* Instructor name: Nikita Njoroge\n",
    "* Blog post URL:\n"
   ]
  },
  {
   "cell_type": "markdown",
   "id": "c16db237-96ae-478b-89c9-df2bc3262ae0",
   "metadata": {
    "jp-MarkdownHeadingCollapsed": true
   },
   "source": [
    "## PHASE_3 PROJECT"
   ]
  },
  {
   "cell_type": "markdown",
   "id": "effa3579-9ed1-4999-a751-beb467377e17",
   "metadata": {
    "jp-MarkdownHeadingCollapsed": true
   },
   "source": [
    "## TITLE:MACHINE LEARNING CLASSIFICATION MODEL FOR PREDICTING CUSTOMER CHURN AT SYRIA TEL"
   ]
  },
  {
   "cell_type": "markdown",
   "id": "451a4f81-ccee-4891-a846-838ee720ee42",
   "metadata": {
    "jp-MarkdownHeadingCollapsed": true
   },
   "source": [
    "## 1.0 BUSINESS UNDERSTANDING/PROJECT OVERVIEW\n",
    "#### 1.1 INTRODUCTION.\n",
    "\n",
    "Client churn, also known as customer churn or subscriber churn, refers to the loss of customers or subscribers over a specific period of time.\n",
    "\n",
    "Fighting client churn has become a crucial concern in the dynamic telecommunications sector, as customers have many options for service providers and frequently switch carriers.Currently,the industry's typical yearly churn rate in the US ranges from 11% to 25% according to latest report (year 2020) by statista https://www.statista.com/statistics/816735/customer-churn-rate-by-industry-us/, and keeping current clients has become crucial. Acknowledging the significant financial difference between bringing in new clients and keeping existing clients, seasoned operators make keeping existing clients their top priority.\n",
    "\n",
    "Understanding and reducing client churn is essential for businesses because:\n",
    "* Churn directly translates to lost recurring revenue. Retaining existing clients is generally cheaper than acquiring new ones.\n",
    "* High churn rates can indicate customer dissatisfaction and potentially harm the company's brand image.\n",
    "* By analyzing churn data, companies can identify patterns and risk factors associated with churn. This allows them to develop strategies to retain at-risk customers.\n",
    "\n",
    "Combating Client Churn:\n",
    "Companies can implement various strategies to reduce churn:\n",
    "* Customer Satisfaction Surveys: Understanding customer pain points and satisfaction levels helps to identify areas for improvement.\n",
    "* Loyalty Programs: Reward programs and incentives can encourage customers to stay.\n",
    "* Personalized Offers: Tailoring offers and promotions to individual customer needs can increase value perception.\n",
    "* Improved Customer Service: Providing excellent customer support builds trust and loyalty.\n",
    "* Proactive Engagement: Identifying at-risk customers and offering targeted interventions can prevent churn.\n",
    "\n",
    "By focusing on customer satisfaction, value delivery, and proactive engagement, Telecom companies can effectively reduce client churn and maintain a healthy customer base.\n",
    "\n",
    "\n",
    "#### 1.2 PROBLEM STATEMENT.\n",
    "\n",
    "SyriaTel, a telecommunications company, has experienced a significant rise in customer churn rates within the US market during the past financial period. This churn is leading to customer loss and negatively impacting SyriaTel's revenue. To address this challenge,I aim to develop a machine learning model that will help SyriaTel company's stakeholders to identify customers at risk of churn in the US.Additionally,this model will be used to develop targeted customer retention strategies and mitigate churn.\n",
    "\n",
    "#### 1.3 MAIN OBJECTIVE.\n",
    "\n",
    "To develop a machine learning classification model that accurately predicts customer churn in the US market for SyriaTel, enabling them to identify customers at high risk of churning and implement targeted customer retention strategies.\n",
    " \n",
    "#### 1.4 SPECIFIC OBJECTIVES.\n",
    "* To identify the key factors that contribute to customer churn in Syria Tel.\n",
    "* To develop a model that will accurately predict the probability of churn for individual customers in the US market.\n",
    "* To determine the likely solution to lower churn.\n",
    " \n",
    "\n"
   ]
  },
  {
   "cell_type": "markdown",
   "id": "a7214b6b-021e-44a0-a4c6-058a694334ca",
   "metadata": {},
   "source": [
    "## 2.DATA UNDERSTANDING\n",
    "\n",
    "The dataset contains various features related to telecom customer behavior, service usage, and account information. \n",
    "The dataset has details such as:\n",
    "1. The customer's state\n",
    "2.  Account length\n",
    "3.  Area code\n",
    "4.  Phone number\n",
    "5.  International plan\n",
    "6.  Voice mail plan\n",
    "7.  Number of voicemail messages\n",
    "8.  Total duration and charges for calls made during the day, evening, and night.\n",
    "9.  It also includes information on international calls\n",
    "10. Customer service calls\n",
    "11. Whether or not the customer churned (terminated their contract).\n",
    "\n",
    "The data will be suitable to build a classifier to predict whether a customer will (\"soon\") stop doing business with SyriaTel telecommunications company.\n",
    "\n",
    "The data is obtained from kaggle website.\n",
    "\n",
    "Data Source : https://www.kaggle.com/datasets/becksddf/churn-in-telecoms-dataset \n",
    "\n",
    "\n",
    "The data set is made up of 21 columns made up of different features as shown below:\n",
    "\n",
    "Summary of Features in the Dataset\n",
    "* state: the state the customer lives in - different states in America\n",
    "* account length: the number of days since the customer possessed an account\n",
    "* area code: the area code of the customer\n",
    "* phone number: the phone number of the customer\n",
    "* international plan: true if the customer has the international plan, otherwise false\n",
    "* voice mail plan: true if the customer has the voice mail plan, otherwise false\n",
    "* number vmail messages: the number of voicemails the customer has sent\n",
    "* total day minutes: total number of minutes the customer has been on calls during the day\n",
    "* total day calls: total number of calls the user has made during the day\n",
    "* total day charge: total amount of money the customer was charged by the Telecom company for calls made during the day\n",
    "* total eve minutes: total number of minutes the customer has been on calls in the evening\n",
    "* total eve calls: total number of calls the customer has made in the evening\n",
    "* total eve charge: total amount of money the customer was charged by the Telecom company for calls made in the evening\n",
    "* total night minutes: total number of minutes the customer has been on calls during the night\n",
    "* total night calls: total number of calls the customer has done during the night\n",
    "* total night charge: total amount of money the customer was charged by the Telecom company for calls made during the night\n",
    "* total intl minutes: total number of minutes the user has been on international calls\n",
    "* total intl calls: total number of international calls the customer has made\n",
    "* total intl charge: total amount of money the customer was charged by the Telecom company for international calls\n",
    "* customer service calls: number of calls the customer has made to customer service\n",
    "* churn: target variable which is true if the customer terminated their contract, otherwise false"
   ]
  },
  {
   "cell_type": "markdown",
   "id": "baf3917e-e3ce-472b-9fb8-011c51c85a64",
   "metadata": {},
   "source": [
    "## 3.DATA PREPARATION(DATA CLEANING)\n",
    "#### import the necessary libraries"
   ]
  },
  {
   "cell_type": "code",
   "execution_count": 3,
   "id": "d7a414b8-cd2b-4a53-b4c0-f689c3ba7e80",
   "metadata": {},
   "outputs": [
    {
     "ename": "ModuleNotFoundError",
     "evalue": "No module named 'xgboost'",
     "output_type": "error",
     "traceback": [
      "\u001b[0;31m---------------------------------------------------------------------------\u001b[0m",
      "\u001b[0;31mModuleNotFoundError\u001b[0m                       Traceback (most recent call last)",
      "Cell \u001b[0;32mIn[3], line 26\u001b[0m\n\u001b[1;32m     24\u001b[0m \u001b[38;5;28;01mfrom\u001b[39;00m \u001b[38;5;21;01msklearn\u001b[39;00m\u001b[38;5;21;01m.\u001b[39;00m\u001b[38;5;21;01mmetrics\u001b[39;00m \u001b[38;5;28;01mimport\u001b[39;00m classification_report\n\u001b[1;32m     25\u001b[0m \u001b[38;5;28;01mfrom\u001b[39;00m \u001b[38;5;21;01msklearn\u001b[39;00m\u001b[38;5;21;01m.\u001b[39;00m\u001b[38;5;21;01mensemble\u001b[39;00m \u001b[38;5;28;01mimport\u001b[39;00m RandomForestClassifier\n\u001b[0;32m---> 26\u001b[0m \u001b[38;5;28;01mfrom\u001b[39;00m \u001b[38;5;21;01mxgboost\u001b[39;00m \u001b[38;5;28;01mimport\u001b[39;00m XGBClassifier\n\u001b[1;32m     27\u001b[0m \u001b[38;5;28;01mfrom\u001b[39;00m \u001b[38;5;21;01msklearn\u001b[39;00m\u001b[38;5;21;01m.\u001b[39;00m\u001b[38;5;21;01mpreprocessing\u001b[39;00m \u001b[38;5;28;01mimport\u001b[39;00m StandardScaler\n\u001b[1;32m     28\u001b[0m \u001b[38;5;28;01mfrom\u001b[39;00m \u001b[38;5;21;01msklearn\u001b[39;00m\u001b[38;5;21;01m.\u001b[39;00m\u001b[38;5;21;01mpreprocessing\u001b[39;00m \u001b[38;5;28;01mimport\u001b[39;00m LabelEncoder\n",
      "\u001b[0;31mModuleNotFoundError\u001b[0m: No module named 'xgboost'"
     ]
    }
   ],
   "source": [
    "#importing libraries for data handling\n",
    "import pandas as pd\n",
    "import numpy as np\n",
    "\n",
    "#importing libraries for visualization\n",
    "import matplotlib.pyplot as plt\n",
    "%matplotlib inline\n",
    "import seaborn as sns\n",
    "\n",
    "#importing libraries for modeling\n",
    "import statsmodels.api as sm\n",
    "from sklearn.model_selection import train_test_split\n",
    "from sklearn import preprocessing\n",
    "from sklearn.linear_model import LogisticRegression\n",
    "from sklearn.datasets import make_classification\n",
    "from sklearn.metrics import confusion_matrix\n",
    "from sklearn.tree import DecisionTreeClassifier \n",
    "from sklearn.metrics import accuracy_score, roc_curve, auc\n",
    "from sklearn.preprocessing import OneHotEncoder\n",
    "from sklearn.tree import export_graphviz, plot_tree\n",
    "from IPython.display import Image\n",
    "from sklearn import tree\n",
    "from sklearn.metrics import confusion_matrix\n",
    "from sklearn.metrics import classification_report\n",
    "from sklearn.ensemble import RandomForestClassifier\n",
    "from xgboost import XGBClassifier\n",
    "from sklearn.preprocessing import StandardScaler\n",
    "from sklearn.preprocessing import LabelEncoder\n",
    "from sklearn.model_selection import GridSearchCV\n",
    "import warnings\n",
    "warnings.filterwarnings(\"ignore\")"
   ]
  },
  {
   "cell_type": "markdown",
   "id": "0b52871f-de86-45ea-9a5d-7456cd761ceb",
   "metadata": {},
   "source": [
    "## 4.DATA ANALYSIS"
   ]
  },
  {
   "cell_type": "markdown",
   "id": "ebf95eb0-6297-45fa-be8a-4e5f70bb5395",
   "metadata": {},
   "source": [
    "## 5.MODELING"
   ]
  },
  {
   "cell_type": "markdown",
   "id": "5a2f75f5-4f46-4512-873b-880312f06f3f",
   "metadata": {},
   "source": [
    "## 6.EVALUATION"
   ]
  },
  {
   "cell_type": "markdown",
   "id": "4d8aa7d2-cdc8-4168-b585-7c52c04b5ef2",
   "metadata": {},
   "source": [
    "## 7.CONCLUSION & RECOMMENDATIONS"
   ]
  },
  {
   "cell_type": "markdown",
   "id": "d1499cf4-84d7-420d-9bfb-5f8cbe69db53",
   "metadata": {},
   "source": [
    "## 8.NEXT STEPS"
   ]
  }
 ],
 "metadata": {
  "kernelspec": {
   "display_name": "Python (learn-env)",
   "language": "python",
   "name": "learn-env"
  },
  "language_info": {
   "codemirror_mode": {
    "name": "ipython",
    "version": 3
   },
   "file_extension": ".py",
   "mimetype": "text/x-python",
   "name": "python",
   "nbconvert_exporter": "python",
   "pygments_lexer": "ipython3",
   "version": "3.9.18"
  }
 },
 "nbformat": 4,
 "nbformat_minor": 5
}
