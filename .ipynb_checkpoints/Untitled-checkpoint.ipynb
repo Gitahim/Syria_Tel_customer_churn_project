{
 "cells": [
  {
   "cell_type": "code",
   "execution_count": null,
   "id": "9b6c248a-a902-49ed-a7a5-5c0a309298f8",
   "metadata": {},
   "outputs": [],
   "source": []
  }
 ],
 "metadata": {
  "kernelspec": {
   "display_name": "",
   "name": ""
  },
  "language_info": {
   "name": ""
  }
 },
 "nbformat": 4,
 "nbformat_minor": 5
}
